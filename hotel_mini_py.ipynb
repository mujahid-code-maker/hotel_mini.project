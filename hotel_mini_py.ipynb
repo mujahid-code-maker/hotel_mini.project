{
  "nbformat": 4,
  "nbformat_minor": 0,
  "metadata": {
    "colab": {
      "provenance": [],
      "authorship_tag": "ABX9TyMRCFJoMm7yd+IMTPiGtjnu",
      "include_colab_link": true
    },
    "kernelspec": {
      "name": "python3",
      "display_name": "Python 3"
    },
    "language_info": {
      "name": "python"
    }
  },
  "cells": [
    {
      "cell_type": "markdown",
      "metadata": {
        "id": "view-in-github",
        "colab_type": "text"
      },
      "source": [
        "<a href=\"https://colab.research.google.com/github/mujahid-code-maker/hotel_mini.project/blob/main/hotel_mini_py.ipynb\" target=\"_parent\"><img src=\"https://colab.research.google.com/assets/colab-badge.svg\" alt=\"Open In Colab\"/></a>"
      ]
    },
    {
      "cell_type": "markdown",
      "source": [
        "Mini Project"
      ],
      "metadata": {
        "id": "YPw2h7BniHpw"
      }
    },
    {
      "cell_type": "code",
      "source": [
        "#Define the menu of restaurant\n",
        "Menu = {\n",
        "    'Pizza':40,\n",
        "    'Pasta':50,\n",
        "    'Burgar':60,\n",
        "    'Salad':70,\n",
        "    'Coffee':80,\n",
        "}\n",
        "print(Menu)"
      ],
      "metadata": {
        "colab": {
          "base_uri": "https://localhost:8080/"
        },
        "id": "OxEujzRKkgJQ",
        "outputId": "01c05d67-ecf4-49cf-9e09-85b68c8970f4"
      },
      "execution_count": 44,
      "outputs": [
        {
          "output_type": "stream",
          "name": "stdout",
          "text": [
            "{'Pizza': 40, 'Pasta': 50, 'Burgar': 60, 'Salad': 70, 'Coffee': 80}\n"
          ]
        }
      ]
    },
    {
      "cell_type": "code",
      "source": [
        "#Great\n",
        "print(\"wlcome to Shakardara Restaurant\")\n",
        "print(\"Pizza: Rs40\\nPasta: Rs50\\nBurgar: Rs60\\nSalad: Rs70\\nCoffee: Rs80\")\n"
      ],
      "metadata": {
        "colab": {
          "base_uri": "https://localhost:8080/"
        },
        "id": "xGeUuTY6ms-c",
        "outputId": "66d06443-9fbc-42c9-80ab-dd37f3edf5cd"
      },
      "execution_count": 45,
      "outputs": [
        {
          "output_type": "stream",
          "name": "stdout",
          "text": [
            "wlcome to Shakardara Restaurant\n",
            "Pizza: Rs40\n",
            "Pasta: Rs50\n",
            "Burgar: Rs60\n",
            "Salad: Rs70\n",
            "Coffee: Rs80\n"
          ]
        }
      ]
    },
    {
      "cell_type": "code",
      "source": [
        "Order_total = 0\n",
        "#50+70 = 150\n",
        "item_1 = input(\"Enter the name of item you want to order = \")\n",
        "if item_1 in Menu :\n",
        "  Order_total+= Menu [item_1]\n",
        "  #0+50\n",
        "  print(f\"your item {item_1}has been added to your order\")\n",
        "else:\n",
        "  print(f'order item {item_1} is not avaialble yet!')\n",
        "another_order = input(\"do you want to add another item?(Yes/No)\")\n",
        "\n",
        ""
      ],
      "metadata": {
        "colab": {
          "base_uri": "https://localhost:8080/"
        },
        "id": "9QAKVmQrrkt7",
        "outputId": "b6593013-6f16-4d54-dc35-68fa1ab17440"
      },
      "execution_count": 46,
      "outputs": [
        {
          "name": "stdout",
          "output_type": "stream",
          "text": [
            "Enter the name of item you want to order = Coffee\n",
            "your item Coffeehas been added to your order\n",
            "do you want to add another item?(Yes/No)no\n"
          ]
        }
      ]
    },
    {
      "source": [
        "if another_order == \"Yes\":\n",
        "  item_2 = input('enter the name of second item =')\n",
        "  if item_2 in Menu:\n",
        "    order_total+= Menu[item_2] #This line and the next line were not properly indented\n",
        "    print(f'item{item_2} has been added to order')"
      ],
      "cell_type": "code",
      "metadata": {
        "id": "7R0LMxzWObbC"
      },
      "execution_count": 49,
      "outputs": []
    }
  ]
}