{
  "nbformat": 4,
  "nbformat_minor": 0,
  "metadata": {
    "colab": {
      "provenance": [],
      "authorship_tag": "ABX9TyPiC2VaHa76Xqcmio+OhSfC",
      "include_colab_link": true
    },
    "kernelspec": {
      "name": "python3",
      "display_name": "Python 3"
    },
    "language_info": {
      "name": "python"
    }
  },
  "cells": [
    {
      "cell_type": "markdown",
      "metadata": {
        "id": "view-in-github",
        "colab_type": "text"
      },
      "source": [
        "<a href=\"https://colab.research.google.com/github/mujahid-code-maker/hotel_mini.project/blob/main/To_Do_List_Application_py.ipynb\" target=\"_parent\"><img src=\"https://colab.research.google.com/assets/colab-badge.svg\" alt=\"Open In Colab\"/></a>"
      ]
    },
    {
      "cell_type": "markdown",
      "source": [
        "To_Do List Application"
      ],
      "metadata": {
        "id": "PPBunvj8bJ8x"
      }
    },
    {
      "cell_type": "code",
      "source": [
        "# Simple To-Do List Application\n",
        "\n",
        "# Function to display the menu\n",
        "def display_menu():\n",
        "    print(\"\\n===== To-Do List Menu =====\")\n",
        "    print(\"1. View Tasks\")\n",
        "    print(\"2. Add Task\")\n",
        "    print(\"3. Remove Task\")\n",
        "    print(\"4. Exit\")\n",
        "\n",
        "# Function to display all tasks\n",
        "def view_tasks(todo_list):\n",
        "    if len(todo_list) == 0:\n",
        "        print(\"\\n[!] No tasks to display.\")\n",
        "    else:\n",
        "        print(\"\\n--- Your To-Do List ---\")\n",
        "        for index, task in enumerate(todo_list, start=1):\n",
        "            print(f\"{index}. {task}\")\n",
        "\n",
        "# Function to add a new task\n",
        "def add_task(todo_list):\n",
        "    task = input(\"Enter the task you want to add: \").strip()\n",
        "    if task:\n",
        "        todo_list.append(task)\n",
        "        print(f\"[+] Task '{task}' added successfully.\")\n",
        "    else:\n",
        "        print(\"[!] Task cannot be empty.\")\n",
        "\n",
        "# Function to remove a task\n",
        "def remove_task(todo_list):\n",
        "    if len(todo_list) == 0:\n",
        "        print(\"\\n[!] No tasks to remove.\")\n",
        "        return\n",
        "\n",
        "    view_tasks(todo_list)\n",
        "\n",
        "    try:\n",
        "        task_num = int(input(\"Enter the task number you want to remove: \"))\n",
        "        if 1 <= task_num <= len(todo_list):\n",
        "            removed_task = todo_list.pop(task_num - 1)\n",
        "            print(f\"[-] Task '{removed_task}' removed successfully.\")\n",
        "        else:\n",
        "            print(\"[!] Invalid task number.\")\n",
        "    except ValueError:\n",
        "        print(\"[!] Please enter a valid number.\")\n",
        "\n",
        "# Main function to run the To-Do List Application\n",
        "def todo_list_app():\n",
        "    todo_list = []  # List to store tasks\n",
        "    while True:\n",
        "        display_menu()\n",
        "        try:\n",
        "            choice = int(input(\"Enter your choice (1/2/3/4): \"))\n",
        "        except ValueError:\n",
        "            print(\"[!] Invalid input. Please enter a number between 1 and 4.\")\n",
        "            continue\n",
        "\n",
        "        if choice == 1:\n",
        "            view_tasks(todo_list)\n",
        "        elif choice == 2:\n",
        "            add_task(todo_list)\n",
        "        elif choice == 3:\n",
        "            remove_task(todo_list)\n",
        "        elif choice == 4:\n",
        "            print(\"\\nExiting the application... Goodbye!\")\n",
        "            break\n",
        "        else:\n",
        "            print(\"[!] Invalid choice. Please select a valid option (1/2/3/4).\")\n",
        "\n",
        "# Run the application\n",
        "if __name__ == \"__main__\":\n",
        "    todo_list_app()"
      ],
      "metadata": {
        "id": "ZciZz6FEbYrv",
        "outputId": "4dade838-1530-4f7e-9015-f36aa7f887fc",
        "colab": {
          "base_uri": "https://localhost:8080/"
        }
      },
      "execution_count": null,
      "outputs": [
        {
          "output_type": "stream",
          "name": "stdout",
          "text": [
            "\n",
            "===== To-Do List Menu =====\n",
            "1. View Tasks\n",
            "2. Add Task\n",
            "3. Remove Task\n",
            "4. Exit\n"
          ]
        }
      ]
    }
  ]
}