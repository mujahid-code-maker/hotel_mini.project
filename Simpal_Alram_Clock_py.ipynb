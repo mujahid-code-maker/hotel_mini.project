{
  "nbformat": 4,
  "nbformat_minor": 0,
  "metadata": {
    "colab": {
      "provenance": [],
      "authorship_tag": "ABX9TyMZV3Y9+n0AJA3Noe/V+9f8",
      "include_colab_link": true
    },
    "kernelspec": {
      "name": "python3",
      "display_name": "Python 3"
    },
    "language_info": {
      "name": "python"
    }
  },
  "cells": [
    {
      "cell_type": "markdown",
      "metadata": {
        "id": "view-in-github",
        "colab_type": "text"
      },
      "source": [
        "<a href=\"https://colab.research.google.com/github/mujahid-code-maker/hotel_mini.project/blob/main/Simpal_Alram_Clock_py.ipynb\" target=\"_parent\"><img src=\"https://colab.research.google.com/assets/colab-badge.svg\" alt=\"Open In Colab\"/></a>"
      ]
    },
    {
      "cell_type": "code",
      "execution_count": null,
      "metadata": {
        "id": "voIEMa8zFJJ6"
      },
      "outputs": [],
      "source": [
        "# Step 1: Zaroori modules import karte hain\n",
        "import datetime  # Current time lene ke liye\n",
        "import time      # Sleep function ke liye\n",
        "from IPython.display import Audio, display  # Colab mein sound bajane ke liye\n",
        "\n",
        "# Step 2: User se alarm time input lena\n",
        "alarm_time = input(\"Alarm time set karo (HH:MM:SS format mein): \")\n",
        "\n",
        "# Step 3: Alarm ko check karne ke liye loop\n",
        "while True:\n",
        "    # Current time lo\n",
        "    current_time = datetime.datetime.now().strftime(\"%H:%M:%S\")\n",
        "\n",
        "    # Check karo ki current time alarm time ke barabar hai ya nahi\n",
        "    if current_time == alarm_time:\n",
        "        print(\"Alarm Baj Raha Hai! Wake Up!\")\n",
        "\n",
        "        # Sound play karte hain\n",
        "        sound = Audio('https://www.soundjay.com/button/beep-07.wav', autoplay=True)\n",
        "        display(sound)\n",
        "\n",
        "        break  # Alarm baj gaya to loop se bahar nikal jao\n",
        "\n",
        "    # Thoda ruk jao (1 second) warna system busy ho jayega\n",
        "    time.sleep(1)"
      ]
    }
  ]
}